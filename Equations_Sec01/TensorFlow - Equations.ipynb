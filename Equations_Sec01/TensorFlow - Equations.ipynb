{
 "cells": [
  {
   "cell_type": "markdown",
   "metadata": {},
   "source": [
    "===============================\n",
    "TensorFlow - Deep learning approach <br>\n",
    "===============================\n",
    "* Author: ANDY MAI\n",
    "* References from various sources\n",
    "* Python is used in the entire section\n",
    "* San Jose - the Capital of Silicon Valley\n",
    "* July 2017\n",
    "--------------------------------------------------\n",
    "\n",
    "## INTRODUCTION TO TENSORFLOW - Section 01\n",
    "In this section, we will practice the application of TensorFlow to predict an equations from given points in matrices format. <br>\n",
    "### Mathematical fact:\n",
    "To find all the parameters from an equation with all knownable values of variables, we can use matrix transformation to solve. For example: <br>\n",
    "### y = ax + b\n",
    "After re-arranging, we have:\n",
    "### $\\frac{1}{b}y - \\frac{a}{b}x = 1$\n",
    "We can estimate the above equation in matrix: $A = BX^{-1}$ with <strong>A</strong> is matrix of parameters (including a and b), <strong>B</strong> is an ones matrix, and <strong>X</strong> is matrix of variables (x and y values)."
   ]
  },
  {
   "cell_type": "code",
   "execution_count": 1,
   "metadata": {
    "collapsed": true
   },
   "outputs": [],
   "source": [
    "import tensorflow as tf"
   ]
  },
  {
   "cell_type": "markdown",
   "metadata": {},
   "source": [
    "## First example:\n",
    "### Finding parameters (a, b) of y = ax + b"
   ]
  },
  {
   "cell_type": "code",
   "execution_count": 2,
   "metadata": {
    "collapsed": true
   },
   "outputs": [],
   "source": [
    "# Point 1\n",
    "x1 = tf.constant(5, dtype=tf.float32)\n",
    "y1 = tf.constant(8, dtype=tf.float32)\n",
    "point1 = tf.stack([x1,y1])"
   ]
  },
  {
   "cell_type": "code",
   "execution_count": 3,
   "metadata": {
    "collapsed": true
   },
   "outputs": [],
   "source": [
    "# Point 2\n",
    "x2 = tf.constant(-6, dtype=tf.float32)\n",
    "y2 = tf.constant(5, dtype=tf.float32)\n",
    "point2 = tf.stack([x2,y2])"
   ]
  },
  {
   "cell_type": "code",
   "execution_count": 4,
   "metadata": {
    "collapsed": true
   },
   "outputs": [],
   "source": [
    "# Put all points together to create a set of equations\n",
    "X = tf.transpose(tf.stack([point1,point2]))"
   ]
  },
  {
   "cell_type": "code",
   "execution_count": 5,
   "metadata": {
    "collapsed": true
   },
   "outputs": [],
   "source": [
    "B = tf.ones((1, 2), dtype=tf.float32) # Create ones matrix with 1 columns and 2 rows\n",
    "\n",
    "parameters = tf.matmul(B, tf.matrix_inverse(X))\n",
    "\n",
    "with tf.Session() as session:\n",
    "    A = session.run(parameters)"
   ]
  },
  {
   "cell_type": "code",
   "execution_count": 6,
   "metadata": {},
   "outputs": [
    {
     "name": "stdout",
     "output_type": "stream",
     "text": [
      "Predicted equation: y = 0.27272728621220865x + 6.636364013941842\n"
     ]
    }
   ],
   "source": [
    "b = 1 / A[0][1]\n",
    "a = -b * A[0][0]\n",
    "print(\"Predicted equation: y = {a}x + {b}\".format(a=a, b=b))"
   ]
  },
  {
   "cell_type": "markdown",
   "metadata": {},
   "source": [
    "## Second example:\n",
    "### Finding parameters (a, b, c) of z = ax + by + c"
   ]
  },
  {
   "cell_type": "code",
   "execution_count": 7,
   "metadata": {
    "collapsed": true
   },
   "outputs": [],
   "source": [
    "# Point 1\n",
    "x1 = tf.constant(5, dtype=tf.float32)\n",
    "y1 = tf.constant(6, dtype=tf.float32)\n",
    "z1 = tf.constant(8, dtype=tf.float32)\n",
    "point1 = tf.stack([x1,y1,z1])"
   ]
  },
  {
   "cell_type": "code",
   "execution_count": 8,
   "metadata": {
    "collapsed": true
   },
   "outputs": [],
   "source": [
    "# Point 2\n",
    "x2 = tf.constant(1, dtype=tf.float32)\n",
    "y2 = tf.constant(1, dtype=tf.float32)\n",
    "z2 = tf.constant(2, dtype=tf.float32)\n",
    "point2 = tf.stack([x2,y2,z2])"
   ]
  },
  {
   "cell_type": "code",
   "execution_count": 9,
   "metadata": {
    "collapsed": true
   },
   "outputs": [],
   "source": [
    "# Point 3\n",
    "x3 = tf.constant(-2, dtype=tf.float32)\n",
    "y3 = tf.constant(1, dtype=tf.float32)\n",
    "z3 = tf.constant(4, dtype=tf.float32)\n",
    "point3 = tf.stack([x3,y3,z3])"
   ]
  },
  {
   "cell_type": "code",
   "execution_count": 10,
   "metadata": {
    "collapsed": true
   },
   "outputs": [],
   "source": [
    "Y = tf.transpose(tf.stack([point1,point2,point3]))"
   ]
  },
  {
   "cell_type": "code",
   "execution_count": 11,
   "metadata": {
    "collapsed": true
   },
   "outputs": [],
   "source": [
    "B = tf.ones((1,3),dtype=tf.float32)\n",
    "parameters = tf.matmul(B, tf.matrix_inverse(Y))\n",
    "\n",
    "with tf.Session() as session:\n",
    "    A = session.run(parameters)"
   ]
  },
  {
   "cell_type": "code",
   "execution_count": 12,
   "metadata": {},
   "outputs": [
    {
     "name": "stdout",
     "output_type": "stream",
     "text": [
      "Predicted equation: z = -0.6666667037540024x + 1.7333333407508005y + 0.9333333630032019\n"
     ]
    }
   ],
   "source": [
    "c = 1/A[0][2]\n",
    "b = -c*A[0][1]\n",
    "a = -c*A[0][0]\n",
    "print(\"Predicted equation: z = {a}x + {b}y + {c}\".format(a=a, b=b, c=c))"
   ]
  }
 ],
 "metadata": {
  "kernelspec": {
   "display_name": "Python 3",
   "language": "python",
   "name": "python3"
  },
  "language_info": {
   "codemirror_mode": {
    "name": "ipython",
    "version": 3
   },
   "file_extension": ".py",
   "mimetype": "text/x-python",
   "name": "python",
   "nbconvert_exporter": "python",
   "pygments_lexer": "ipython3",
   "version": "3.5.2"
  }
 },
 "nbformat": 4,
 "nbformat_minor": 2
}
